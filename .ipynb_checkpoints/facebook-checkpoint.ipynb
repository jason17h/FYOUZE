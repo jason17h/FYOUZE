{
 "cells": [
  {
   "cell_type": "code",
   "execution_count": 22,
   "metadata": {},
   "outputs": [],
   "source": [
    "from selenium import webdriver\n",
    "from selenium.webdriver.common.keys import Keys\n",
    "from selenium.common.exceptions import NoSuchElementException\n",
    "\n",
    "option_chrome = webdriver.ChromeOptions()\n",
    "option_chrome.add_argument('headless')\n",
    "option_chrome.add_argument(\"disable-gpu\")\n",
    "\n",
    "path = \"/Users/lauradang/fippa-cleaning/chromedriver\"\n",
    "\n",
    "url = \"https://facebook.com\"\n",
    "driver = webdriver.Chrome(executable_path=path, options=option_chrome)\n",
    "driver.get(url)"
   ]
  },
  {
   "cell_type": "code",
   "execution_count": 18,
   "metadata": {},
   "outputs": [
    {
     "data": {
      "text/plain": [
       "<selenium.webdriver.remote.webelement.WebElement (session=\"9b06c76624f86545b845298a8f6e8e48\", element=\"f0f8b687-a833-4645-acc9-66ca64fe98f6\")>"
      ]
     },
     "execution_count": 18,
     "metadata": {},
     "output_type": "execute_result"
    }
   ],
   "source": [
    "driver.find_element_by_xpath(\"//input[@id='email']\").send_keys(\"lauradang.2000@gmail.com\")\n",
    "driver.find_element_by_xpath(\"//input[@id='password']\").send_keys(\"lauradang.2000@gmail.com\")"
   ]
  },
  {
   "cell_type": "code",
   "execution_count": null,
   "metadata": {},
   "outputs": [],
   "source": []
  }
 ],
 "metadata": {
  "kernelspec": {
   "display_name": "Python 3",
   "language": "python",
   "name": "python3"
  },
  "language_info": {
   "codemirror_mode": {
    "name": "ipython",
    "version": 3
   },
   "file_extension": ".py",
   "mimetype": "text/x-python",
   "name": "python",
   "nbconvert_exporter": "python",
   "pygments_lexer": "ipython3",
   "version": "3.7.4"
  }
 },
 "nbformat": 4,
 "nbformat_minor": 2
}
