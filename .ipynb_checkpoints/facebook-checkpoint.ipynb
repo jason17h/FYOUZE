{
 "cells": [
  {
   "cell_type": "code",
   "execution_count": 1,
   "metadata": {},
   "outputs": [],
   "source": []
  },
  {
   "cell_type": "code",
   "execution_count": 26,
   "metadata": {},
   "outputs": [],
   "source": [
    "import time\n",
    "from time import sleep\n",
    "\n",
    "from selenium import webdriver\n",
    "from selenium.webdriver.common.keys import Keys\n",
    "from selenium.common.exceptions import NoSuchElementException\n",
    "\n",
    "option_chrome = webdriver.ChromeOptions()\n",
    "# option_chrome.add_argument('headless')\n",
    "# option_chrome.add_argument(\"disable-gpu\")\n",
    "\n",
    "path = \"/Users/lauradang/fippa-cleaning/chromedriver\"\n",
    "\n",
    "url = \"https://facebook.com\"\n",
    "fb_driver = webdriver.Chrome(executable_path=path)\n",
    "fb_driver.get(url)\n",
    "\n",
    "fb_driver.find_element_by_xpath(\"//input[@id='email']\").send_keys(\"lauradang.2000@gmail.com\")\n",
    "fb_driver.find_element_by_xpath(\"//input[@type='password']\").send_keys(\"9087UreSa47\")\n",
    "time.sleep(1)\n",
    "fb_driver.find_element_by_xpath(\"//input[@id='u_0_2']\").click()"
   ]
  },
  {
   "cell_type": "code",
   "execution_count": 27,
   "metadata": {},
   "outputs": [],
   "source": []
  },
  {
   "cell_type": "code",
   "execution_count": 28,
   "metadata": {},
   "outputs": [],
   "source": []
  },
  {
   "cell_type": "code",
   "execution_count": null,
   "metadata": {},
   "outputs": [],
   "source": []
  }
 ],
 "metadata": {
  "kernelspec": {
   "display_name": "Python 3",
   "language": "python",
   "name": "python3"
  },
  "language_info": {
   "codemirror_mode": {
    "name": "ipython",
    "version": 3
   },
   "file_extension": ".py",
   "mimetype": "text/x-python",
   "name": "python",
   "nbconvert_exporter": "python",
   "pygments_lexer": "ipython3",
   "version": "3.7.4"
  }
 },
 "nbformat": 4,
 "nbformat_minor": 2
}
