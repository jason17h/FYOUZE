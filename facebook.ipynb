{
 "cells": [
  {
   "cell_type": "code",
   "execution_count": 26,
   "metadata": {},
   "outputs": [],
   "source": [
    "import time\n",
    "from time import sleep\n",
    "\n",
    "from selenium import webdriver\n",
    "from selenium.webdriver.common.keys import Keys\n",
    "from selenium.common.exceptions import NoSuchElementException\n",
    "\n",
    "option_chrome = webdriver.ChromeOptions()\n",
    "# option_chrome.add_argument('headless')\n",
    "# option_chrome.add_argument(\"disable-gpu\")\n",
    "\n",
    "path = \"/Users/lauradang/fippa-cleaning/chromedriver\"\n",
    "\n",
    "url = \"https://facebook.com\"\n",
    "fb_driver = webdriver.Chrome(executable_path=path)\n",
    "fb_driver.get(url)\n",
    "\n",
    "fb_driver.find_element_by_xpath(\"//input[@id='email']\").send_keys(\"lauradang.2000@gmail.com\")\n",
    "fb_driver.find_element_by_xpath(\"//input[@type='password']\").send_keys(\"9087UreSa47\")\n",
    "time.sleep(1)\n",
    "fb_driver.find_element_by_xpath(\"//input[@id='u_0_2']\").click()"
   ]
  },
  {
   "cell_type": "code",
   "execution_count": 62,
   "metadata": {},
   "outputs": [],
   "source": [
    "import facebook\n",
    "\n",
    "token = 'EAAFpRT45e1MBADeb59LigvaIAcTe9dyhx9tuw3laR05BoSo20wsfiS5FXg4FqsDeRhJ6S6ZCZBHwL3r0oxZAHnJfbjBPshdTa83kcdTWRMPGp6IJcl67cm6QKhFiuaabn3orISyXgrWsKR0PF5WD1TCKDANKaHB7x7NbNqa71Ae6hDQ8eigxsC7AZCoZCmM4LhYqk38YTDwZDZD'\n",
    "graph = facebook.GraphAPI(token)\n",
    "profile = graph.get_object(\"me\")\n",
    "friends = graph.get_connections(\"me\", \"friends\")\n",
    "birthday = graph.get_connections(\"me\", \"?fields=birthday\")\n",
    "hometown = graph.get_connections(\"me\", \"?fields=hometown\")\n",
    "name = graph.get_connections(\"me\", \"/name\")\n",
    "\n"
   ]
  },
  {
   "cell_type": "code",
   "execution_count": 66,
   "metadata": {},
   "outputs": [
    {
     "data": {
      "text/plain": [
       "'Mississauga, Ontario'"
      ]
     },
     "execution_count": 66,
     "metadata": {},
     "output_type": "execute_result"
    }
   ],
   "source": [
    "hometown['hometown']['name']"
   ]
  },
  {
   "cell_type": "code",
   "execution_count": 68,
   "metadata": {},
   "outputs": [
    {
     "data": {
      "text/plain": [
       "701"
      ]
     },
     "execution_count": 68,
     "metadata": {},
     "output_type": "execute_result"
    }
   ],
   "source": [
    "friends['summary']['total_count']"
   ]
  },
  {
   "cell_type": "code",
   "execution_count": 69,
   "metadata": {},
   "outputs": [
    {
     "data": {
      "text/plain": [
       "'04/04/1987'"
      ]
     },
     "execution_count": 69,
     "metadata": {},
     "output_type": "execute_result"
    }
   ],
   "source": [
    "birthday['birthday']"
   ]
  },
  {
   "cell_type": "code",
   "execution_count": 70,
   "metadata": {},
   "outputs": [
    {
     "data": {
      "text/plain": [
       "'Mississauga, Ontario'"
      ]
     },
     "execution_count": 70,
     "metadata": {},
     "output_type": "execute_result"
    }
   ],
   "source": [
    "hometown['hometown']['name']"
   ]
  },
  {
   "cell_type": "code",
   "execution_count": 71,
   "metadata": {},
   "outputs": [
    {
     "data": {
      "text/plain": [
       "'Laura Dang'"
      ]
     },
     "execution_count": 71,
     "metadata": {},
     "output_type": "execute_result"
    }
   ],
   "source": [
    "name['name']"
   ]
  },
  {
   "cell_type": "code",
   "execution_count": 138,
   "metadata": {},
   "outputs": [],
   "source": [
    "import time\n",
    "from time import sleep\n",
    "\n",
    "def scrape():\n",
    "    option_chrome = webdriver.ChromeOptions()\n",
    "    option_chrome.add_argument('headless')\n",
    "    option_chrome.add_argument(\"disable-gpu\")\n",
    "    option_chrome.add_argument(\"disable-infobars\")\n",
    "    option_chrome.add_argument(\"disable-extensions\")\n",
    "    prefs = {\"profile.default_content_setting_values.notifications\" : 2}\n",
    "    option_chrome.add_experimental_option(\"prefs\",prefs)\n",
    "\n",
    "    path = \"/Users/lauradang/fippa-cleaning/chromedriver\"\n",
    "\n",
    "    url = \"https://facebook.com\"\n",
    "    fb_driver = webdriver.Chrome(executable_path=path, options=option_chrome)\n",
    "    fb_driver.get(url)\n",
    "\n",
    "    email = \"lauradang.2000@gmail.com\"\n",
    "    password=\"9087UreSa47\"\n",
    "\n",
    "    fb_driver.find_element_by_xpath(\"//input[@id='email']\").send_keys(email)\n",
    "    fb_driver.find_element_by_xpath(\"//input[@type='password']\").send_keys(password)\n",
    "    time.sleep(2)\n",
    "    fb_driver.find_element_by_xpath(\"//input[@id='u_0_2']\").click()\n",
    "    time.sleep(2)\n",
    "\n",
    "    fb_driver.find_element_by_xpath(\"//a[@accesskey='2']\").get_attribute('href')\n",
    "    \n",
    "    return fb_driver"
   ]
  },
  {
   "cell_type": "code",
   "execution_count": 139,
   "metadata": {},
   "outputs": [],
   "source": [
    "url = \"https://www.facebook.com/olivia.l.xie\"\n",
    "scrape().get(url)"
   ]
  },
  {
   "cell_type": "code",
   "execution_count": 102,
   "metadata": {},
   "outputs": [],
   "source": [
    "url = \"https://www.facebook.com/olivia.l.xie\"\n",
    "fb_driver.get(url)\n",
    "time.sleep(2)\n",
    "fb_driver.find_elements_by_tag_name(\"button\")[1].click()"
   ]
  },
  {
   "cell_type": "code",
   "execution_count": 103,
   "metadata": {},
   "outputs": [],
   "source": [
    "import firebase_admin\n",
    "from firebase_admin import credentials, db\n",
    "\n",
    "cred = credentials.Certificate(\"social-media-app-e8fe0-firebase-adminsdk-qoo7g-55f19c7286.json\")\n",
    "firebase_admin.initialize_app(cred, {\n",
    "    'databaseURL': 'https://social-media-app-e8fe0.firebaseio.com/'\n",
    "})\n",
    "\n",
    "ref = db.reference('/')\n",
    "\n",
    "# ref.set(\n",
    "#     {\n",
    "#         \"users\": {\n",
    "#                 \"lauradang\": {\n",
    "#                     \"fb_link\": \"https://www.facebook.com/lauradang04\"\n",
    "#                 } \n",
    "#             }\n",
    "#     }\n",
    "# )"
   ]
  },
  {
   "cell_type": "code",
   "execution_count": 154,
   "metadata": {},
   "outputs": [
    {
     "data": {
      "text/plain": [
       "'https://www.facebook.com/olivia.l.xie'"
      ]
     },
     "execution_count": 154,
     "metadata": {},
     "output_type": "execute_result"
    }
   ],
   "source": [
    "ref.get()['users']['oliviaxie']['fb_link']"
   ]
  },
  {
   "cell_type": "code",
   "execution_count": 112,
   "metadata": {},
   "outputs": [
    {
     "ename": "AttributeError",
     "evalue": "'Reference' object has no attribute 'post'",
     "output_type": "error",
     "traceback": [
      "\u001b[0;31m---------------------------------------------------------------------------\u001b[0m",
      "\u001b[0;31mAttributeError\u001b[0m                            Traceback (most recent call last)",
      "\u001b[0;32m<ipython-input-112-2187f2991024>\u001b[0m in \u001b[0;36m<module>\u001b[0;34m\u001b[0m\n\u001b[0;32m----> 1\u001b[0;31m \u001b[0mref\u001b[0m\u001b[0;34m.\u001b[0m\u001b[0mpost\u001b[0m\u001b[0;34m(\u001b[0m\u001b[0;34m'/user'\u001b[0m\u001b[0;34m,\u001b[0m \u001b[0;34m{\u001b[0m\u001b[0;34m'lauradang'\u001b[0m\u001b[0;34m:\u001b[0m\u001b[0;34m'hi'\u001b[0m\u001b[0;34m}\u001b[0m\u001b[0;34m)\u001b[0m\u001b[0;34m\u001b[0m\u001b[0;34m\u001b[0m\u001b[0m\n\u001b[0m",
      "\u001b[0;31mAttributeError\u001b[0m: 'Reference' object has no attribute 'post'"
     ]
    }
   ],
   "source": [
    "ref.post('/user', {'lauradang':'hi'})"
   ]
  },
  {
   "cell_type": "code",
   "execution_count": 161,
   "metadata": {},
   "outputs": [],
   "source": [
    "from firebase import firebase\n",
    "\n",
    "app = firebase.FirebaseApplication(\"https://social-media-app-e8fe0.firebaseio.com/\")"
   ]
  },
  {
   "cell_type": "code",
   "execution_count": 165,
   "metadata": {},
   "outputs": [
    {
     "data": {
      "text/plain": [
       "'https://www.facebook.com/olivia.l.xie'"
      ]
     },
     "execution_count": 165,
     "metadata": {},
     "output_type": "execute_result"
    }
   ],
   "source": [
    "app.get('/users', None)['oliviaxie']['fb_link']"
   ]
  },
  {
   "cell_type": "code",
   "execution_count": 125,
   "metadata": {},
   "outputs": [
    {
     "data": {
      "text/plain": [
       "{'fb_link': 'https://www.facebook.com/lauradang04'}"
      ]
     },
     "execution_count": 125,
     "metadata": {},
     "output_type": "execute_result"
    }
   ],
   "source": [
    "firebase.put('users','lauradang',{'fb_link':'https://www.facebook.com/lauradang04'})"
   ]
  },
  {
   "cell_type": "code",
   "execution_count": 126,
   "metadata": {},
   "outputs": [
    {
     "data": {
      "text/plain": [
       "{'fb_link': 'https://www.facebook.com/olivia.l.xie'}"
      ]
     },
     "execution_count": 126,
     "metadata": {},
     "output_type": "execute_result"
    }
   ],
   "source": [
    "firebase.put('users','oliviaxie',{'fb_link':'https://www.facebook.com/olivia.l.xie'})"
   ]
  },
  {
   "cell_type": "code",
   "execution_count": 135,
   "metadata": {},
   "outputs": [
    {
     "data": {
      "text/plain": [
       "{'fb_link': ''}"
      ]
     },
     "execution_count": 135,
     "metadata": {},
     "output_type": "execute_result"
    }
   ],
   "source": [
    "firebase.put('users','hello',{'fb_link':''})"
   ]
  },
  {
   "cell_type": "code",
   "execution_count": 131,
   "metadata": {},
   "outputs": [
    {
     "data": {
      "text/plain": [
       "{'fb_link': 'https://www.facebook.com/niyaxu'}"
      ]
     },
     "execution_count": 131,
     "metadata": {},
     "output_type": "execute_result"
    }
   ],
   "source": [
    "firebase.put('users','niyaxu',{'fb_link':'https://www.facebook.com/niyaxu'})"
   ]
  },
  {
   "cell_type": "code",
   "execution_count": 132,
   "metadata": {},
   "outputs": [
    {
     "data": {
      "text/plain": [
       "{'fb_link': 'https://www.facebook.com/jasonhuang'}"
      ]
     },
     "execution_count": 132,
     "metadata": {},
     "output_type": "execute_result"
    }
   ],
   "source": [
    "firebase.put('users','jasonhuang',{'fb_link':'https://www.facebook.com/jasonhuang'})"
   ]
  },
  {
   "cell_type": "code",
   "execution_count": null,
   "metadata": {},
   "outputs": [],
   "source": []
  }
 ],
 "metadata": {
  "kernelspec": {
   "display_name": "Python 3",
   "language": "python",
   "name": "python3"
  },
  "language_info": {
   "codemirror_mode": {
    "name": "ipython",
    "version": 3
   },
   "file_extension": ".py",
   "mimetype": "text/x-python",
   "name": "python",
   "nbconvert_exporter": "python",
   "pygments_lexer": "ipython3",
   "version": "3.7.4"
  }
 },
 "nbformat": 4,
 "nbformat_minor": 2
}
